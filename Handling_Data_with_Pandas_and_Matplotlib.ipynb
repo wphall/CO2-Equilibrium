{
  "nbformat": 4,
  "nbformat_minor": 0,
  "metadata": {
    "colab": {
      "provenance": [],
      "authorship_tag": "ABX9TyOVd2gU5u5BFPOdo+CviuBx",
      "include_colab_link": true
    },
    "kernelspec": {
      "name": "python3",
      "display_name": "Python 3"
    },
    "language_info": {
      "name": "python"
    }
  },
  "cells": [
    {
      "cell_type": "markdown",
      "metadata": {
        "id": "view-in-github",
        "colab_type": "text"
      },
      "source": [
        "<a href=\"https://colab.research.google.com/github/wphall/CO2-Equilibrium/blob/main/Handling_Data_with_Pandas_and_Matplotlib.ipynb\" target=\"_parent\"><img src=\"https://colab.research.google.com/assets/colab-badge.svg\" alt=\"Open In Colab\"/></a>"
      ]
    },
    {
      "cell_type": "markdown",
      "source": [
        "<div>\n",
        "<img src=\"https://upload.wikimedia.org/wikipedia/commons/e/ec/Anscombe%27s_quartet_3.svg\" width=\"600\"/>\n",
        "</div>\n",
        "\n",
        "Group I (X)\t|Group I (Y)\t|Group II (X)\t|Group II (Y)\t|Group III (X)\t|Group III (Y)\t|Group IV (X)\t|Group IV (Y)\n",
        "---|---|---|---|---|---|---|---\n",
        "10.0|\t8.04|\t10.0|\t9.14|\t10.0|\t7.46|\t8.0|\t6.58\n",
        "8.0\t|6.95\t|8.0|\t8.14|\t8.0|\t6.77|\t8.0\t|5.76\n",
        "13.0|\t7.58|\t13.0|\t8.74|\t13.0|\t12.74|\t8.0|\t7.71\n",
        "9.0|\t8.81|\t9.0|\t8.77|\t9.0\t|7.11|\t8.0|\t8.84\n",
        "11.0|\t8.33|\t11.0|\t9.26|\t11.0|\t7.81|\t8.0|\t8.47\n",
        "14.0|\t9.96|\t14.0|\t8.10|\t14.0|\t8.84|\t8.0\t|7.04\n",
        "6.0|\t7.24|\t6.0|\t6.13|\t6.0\t|6.08\t|8.0|\t5.25\n",
        "4.0\t|4.26|\t4.0\t|3.10|\t4.0|\t5.39|\t19.0|\t12.50\n",
        "12.0|\t10.84\t|12.0|\t9.13|\t12.0|\t8.15|\t8.0|\t5.56\n",
        "7.0|\t4.82|\t7.0|\t7.26|\t7.0|\t6.42|\t8.0\t|7.91\n",
        "5.0|\t5.68|\t5.0|\t4.74|\t5.0|\t5.73|\t8.0|\t6.89\n",
        "\n",
        "[Anscombe's quartet](https://en.wikipedia.org/wiki/Anscombe's_quartet#)\n"
      ],
      "metadata": {
        "id": "6eVYjHMrLqOD"
      }
    },
    {
      "cell_type": "code",
      "metadata": {
        "colab": {
          "base_uri": "https://localhost:8080/"
        },
        "id": "07tX81bGQT4a",
        "outputId": "56e60ef8-d503-4222-d5da-f27a6b994a97"
      },
      "source": [
        "from scipy.optimize import fsolve\n",
        "import numpy as np\n",
        "\n",
        "def FunNaOH(x):\n",
        "  # x[0]=hdr\n",
        "  # x[1]=hox\n",
        "  # x[2]=sod\n",
        "  f0=x[0]*x[1]-Kw      #Kw=hdr*hox so 0=hdr*hox-Kw\n",
        "  f1=x[0]+x[2]-x[1]    #charge balance\n",
        "  f3=x[2]-F            #mass balance\n",
        "  res=np.array([f0, f1, f3])\n",
        "  return res\n",
        "\n",
        "Kw=1e-14\n",
        "F=1.5e-8\n",
        "\n",
        "sod=F\n",
        "hox=F+1.0e-7\n",
        "hdr=Kw/hox\n",
        "estimate=np.array([hdr,hox,sod])\n",
        "\n",
        "print('concentrations into fsolve= ',estimate)\n",
        "pHest=-np.log10(estimate[0])\n",
        "print(\"estimated pH = \"+\"{:.2f}\".format(pHest))\n",
        "residualsEstimate=FunNaOH(estimate)\n",
        "print('residuals of the estimates = ',residualsEstimate)\n",
        "\n",
        "result=fsolve(FunNaOH,estimate)\n",
        "print('concentrations out of fsolve= ',result)\n",
        "residualsSolved=FunNaOH(result)\n",
        "print('residuals of the solved equations = ',residualsSolved)\n",
        "\n",
        "pHsol=-np.log10(result[0])\n",
        "print(\"solved pH = \"+\"{:.2f}\".format(pHsol))"
      ],
      "execution_count": null,
      "outputs": [
        {
          "output_type": "stream",
          "name": "stdout",
          "text": [
            "concentrations into fsolve=  [8.69565217e-08 1.15000000e-07 1.50000000e-08]\n",
            "estimated pH = 7.06\n",
            "residuals of the estimates =  [ 0.00000000e+00 -1.30434783e-08  0.00000000e+00]\n",
            "concentrations out of fsolve=  [9.27808556e-08 1.07780856e-07 1.50000000e-08]\n",
            "residuals of the solved equations =  [0. 0. 0.]\n",
            "solved pH = 7.03\n"
          ]
        }
      ]
    },
    {
      "cell_type": "markdown",
      "source": [
        "At this point you can go back to the [$\\mathrm{CO_2}$ modeling activity](https://colab.research.google.com/drive/1JmzYY-f_uMBbdWO7Q5ehC9B1xWakEKcJ?usp=sharing), or work in the code block below customizing your plot."
      ],
      "metadata": {
        "id": "Xle3FtStb8zH"
      }
    },
    {
      "cell_type": "code",
      "source": [],
      "metadata": {
        "id": "EexVv6mnbGRW"
      },
      "execution_count": null,
      "outputs": []
    }
  ]
}