{
  "nbformat": 4,
  "nbformat_minor": 0,
  "metadata": {
    "colab": {
      "provenance": [],
      "authorship_tag": "ABX9TyMkOs6HVZc9/IgWdcnkb71d",
      "include_colab_link": true
    },
    "kernelspec": {
      "name": "python3",
      "display_name": "Python 3"
    },
    "language_info": {
      "name": "python"
    }
  },
  "cells": [
    {
      "cell_type": "markdown",
      "metadata": {
        "id": "view-in-github",
        "colab_type": "text"
      },
      "source": [
        "<a href=\"https://colab.research.google.com/github/wphall/CO2-Equilibrium/blob/main/Solving_Equilibrium_Problems_Using_Python.ipynb\" target=\"_parent\"><img src=\"https://colab.research.google.com/assets/colab-badge.svg\" alt=\"Open In Colab\"/></a>"
      ]
    },
    {
      "cell_type": "markdown",
      "source": [
        "<div>\n",
        "<img src=\"https://upload.wikimedia.org/wikipedia/commons/a/a3/Baron_Kelvin_1906.jpg\" width=\"200\"/>\n",
        "</div>\n",
        "\n",
        "\"I often say that when you can measure what you are speaking about, and express it in numbers, you know something about it; but when you cannot measure it, when you cannot express it in numbers, your knowledge is of a meagre and unsatisfactory kind; it may be the beginning of knowledge, but you have scarcely, in your thoughts, advanced to the stage of science, whatever the matter may be.\" - Lord Kelvin\n",
        "        \n",
        "Lecture on \"Electrical Units of Measurement\" (3 May 1883), published in [Popular Lectures Vol. I, p. 73](https://archive.org/details/popularlecturesa01kelvuoft/page/72/mode/2up?view=theater)\n",
        "\n"
      ],
      "metadata": {
        "id": "6eVYjHMrLqOD"
      }
    },
    {
      "cell_type": "markdown",
      "source": [
        "We begin by using a Python to calculate the pH of a $1.5×10^{-4}$ M solution of sodium hydroxide."
      ],
      "metadata": {
        "id": "b9Y_vw6XOCVS"
      }
    },
    {
      "cell_type": "code",
      "source": [
        "import numpy as np  #Python has very few built in mathematical functions, so we need to import a library called NumPy for Numerical Python\n",
        "\n",
        "F=1.5e-4\n",
        "\n",
        "print(\"F =\",F)\n",
        "\n",
        "pOH=-np.log10(F)\n",
        "pH=14-pOH\n",
        "print(\"pH =\",pH)\n",
        "print(\"pH = \"+\"{:.2f}\".format(pH))  #this string formatting code makes a number display as text using fixed decimal format with 2 digits after the decimal\n",
        "print(\"pH = \"+\"{:.4f}\".format(pH))  #this string formatting code makes a number display as text using fixed decimal format with 4 digits after the decimal"
      ],
      "metadata": {
        "colab": {
          "base_uri": "https://localhost:8080/"
        },
        "id": "89D9IaWsqprD",
        "outputId": "20e541d5-4218-4444-9191-ed2fcb1e6421"
      },
      "execution_count": null,
      "outputs": [
        {
          "output_type": "stream",
          "name": "stdout",
          "text": [
            "F = 0.00015\n",
            "pH = 10.176091259055681\n",
            "pH = 10.18\n",
            "pH = 10.1761\n"
          ]
        }
      ]
    },
    {
      "cell_type": "markdown",
      "source": [
        "Calculate the pH of a $1.5×10^{-8}$ M solution of sodium hydroxide"
      ],
      "metadata": {
        "id": "oZUnqrD6qj9o"
      }
    },
    {
      "cell_type": "code",
      "source": [
        "import numpy as np\n",
        "\n",
        "F=1.5e-8\n",
        "\n",
        "print(\"F =\",F)                                          #when at the end, the print command will automatically convert named numbers into strings, a sequence of text characters\n",
        "print(\"F = \"+\"{:.3e}\".format(F))                        #this string formatting code makes a number display as text using scientific notation with 3 digits after the decimal\n",
        "\n",
        "pOH=-np.log10(F)\n",
        "pH=14-pOH\n",
        "print(\"When the concentration of NaOH is \"+str(F)+\" M \"+\"the pH is \"+\"{:.2f}\".format(pH)) #when the numbers are inserted between strings we must explicitly convert and concatenate them with a \"+\""
      ],
      "metadata": {
        "colab": {
          "base_uri": "https://localhost:8080/"
        },
        "outputId": "e8896da5-4a20-4329-e2b0-011543b96927",
        "id": "nQXZ35Q4scft"
      },
      "execution_count": null,
      "outputs": [
        {
          "output_type": "stream",
          "name": "stdout",
          "text": [
            "F = 1.5e-08\n",
            "F = 1.500e-08\n",
            "When the concentration of NaOH is 1.5e-08 M the pH is 6.18\n"
          ]
        }
      ]
    },
    {
      "cell_type": "markdown",
      "source": [
        "That is clearly not correct!  The pH should be greater than 7.  We need to account for the autodissociation of water. The following is a better approximation."
      ],
      "metadata": {
        "id": "BOHJ-rMCshGy"
      }
    },
    {
      "cell_type": "code",
      "source": [
        "import numpy as np\n",
        "\n",
        "Kw=1e-14\n",
        "\n",
        "F=1.5e-8\n",
        "\n",
        "hox=F+1.0e-7\n",
        "hdr=Kw/hox\n",
        "\n",
        "pH=-np.log10(hdr)\n",
        "print(\"When the concentration of NaOH is \"+str(F)+\" M \"+\"the pH is \"+\"{:.2f}\".format(pH))"
      ],
      "metadata": {
        "colab": {
          "base_uri": "https://localhost:8080/"
        },
        "outputId": "261eff34-5f23-4904-d35c-43f5cf2893fc",
        "id": "DoQ1jzs5txBd"
      },
      "execution_count": null,
      "outputs": [
        {
          "output_type": "stream",
          "name": "stdout",
          "text": [
            "When the concentration of NaOH is 1.5e-08 M the pH is 7.06\n"
          ]
        }
      ]
    },
    {
      "cell_type": "markdown",
      "source": [
        "That is much more reasonable, but we should check to see if the solution is charge balanced."
      ],
      "metadata": {
        "id": "C_dcbzE0t_e9"
      }
    },
    {
      "cell_type": "markdown",
      "source": [
        "###Charge Balance\n",
        "The charge balance formula is\n",
        "\n",
        "$n_1[C_1] + n_2[C_2] +  ... m_1[A_1] + m_2[A_2] +  ...= 0$\n",
        "\n",
        "Where, e.g., $[C_1]$ is the concentration of cation 1 and $n_1$ is the charge on cation 1, and $[A_1]$ is the concentration of anion 1 and $m_1$ is the charge on anion 1. This equation ensures that the overall charge in the system is zero. Write the charge balance equation for your aqueous system in the markdown cell below."
      ],
      "metadata": {
        "id": "kkSTyYFmlKt5"
      }
    },
    {
      "cell_type": "code",
      "source": [
        "import numpy as np\n",
        "\n",
        "Kw=1e-14\n",
        "F=1.5e-8\n",
        "\n",
        "sod=F\n",
        "hox=F+1.0e-7\n",
        "hdr=Kw/hox\n",
        "\n",
        "pH=-np.log10(hdr)\n",
        "print(\"When the concentration of NaOH is \"+str(F)+\" M \"+\"the pH is \"+\"{:.2f}\".format(pH)) #when the numbers are inserted between strings we must explicitly convert and concatenate them with a \"+\"\n",
        "\n",
        "cb=(1*sod)+(1*hdr)+(-1*hox)\n",
        "print(\"charge balance = \",cb)"
      ],
      "metadata": {
        "colab": {
          "base_uri": "https://localhost:8080/"
        },
        "id": "gVp34WabuQIG",
        "outputId": "1376071e-a3f1-4787-d8e7-c7b69fa8511c"
      },
      "execution_count": null,
      "outputs": [
        {
          "output_type": "stream",
          "name": "stdout",
          "text": [
            "When the concentration of NaOH is 1.5e-08 M the pH is 7.06\n",
            "charge balance =  -1.3043478260869558e-08\n"
          ]
        }
      ]
    },
    {
      "cell_type": "markdown",
      "source": [
        "Charge balance is not zero (we have an excess of negative charge due to too much hydroxide), so our calculation is still not correct.  We can see from the charge balance relationship that there are three concentrations in our solution, $Na^{+}$, $H^+$, and $OH^{-}$ To solve for 3 variables we need three constraints.  In this solution those are $K_{W}$, charge balance, and mass balance.\n",
        "\n",
        "Mass balance relationships are simple to understand (matter is conserved), but can be tricky to write.  Furthermore there are often multiple mass balance relationships.  In this system there are two.  The mass balance for hydroxide is\n",
        "\n",
        "$[OH^-] = [H^+] + [Na^+]$\n",
        "\n",
        "because we can produce $OH^-$ by both the autodissociation of water and by the dissociation of sodium hydroxide.  Unfortunately this equation is identical to charge balance, and does not give us a third constraint for our three unknowns.  Sodium's mass balance is both easy to write, and useful.\n",
        "\n",
        "$[Na^+]$ = constant = 1.5e-8 (the constant we called \"F\" in our script for \"formal concentration\")\n",
        "\n",
        "Now we have 3 variables and 3 constraints and can get an exact solution.  "
      ],
      "metadata": {
        "id": "fvs5-2TKud3W"
      }
    },
    {
      "cell_type": "markdown",
      "source": [
        "Even this simple [system is non-linear](https://math.libretexts.org/Bookshelves/Algebra/Intermediate_Algebra_1e_(OpenStax)/11%3A_Conics/11.06%3A_Solving_Systems_of_Nonlinear_Equations) ($K_W=[OH^-] \\times [H^+]$), so we can't use a linear algebra technique (like [Cramer's rule](https://en.wikipedia.org/wiki/Cramer%27s_rule)) to get a discrete solution.\n",
        "\n",
        "We could use algebraic substitution to solve for pH.\n",
        "\n",
        "1. Substitute $[Na^+]$ from mass balance into charge balance to get $[OH^-]$ in terms of $[H^+]$\n",
        "2. Substitute that into the equilibrium expression\n",
        "3. Rearrange into a second order polynomial\n",
        "3. Find the roots using the quadratic formula\n",
        "\n",
        "In the language of mathematics we would write the following:\n",
        "\n",
        "(You can learn more about [LaTeX markup here](https://colab.research.google.com/github/bebi103a/bebi103a.github.io/blob/master/lessons/00/intro_to_latex.ipynb#scrollTo=8kkROZVwE-UG) and click in this text cell to see an example.\n",
        "\n",
        "\\begin{align}\n",
        "[Na^+] &= F \\\\\n",
        "[OH^-] &= [H^+] +F \\\\\n",
        "([H^+])([H^+] +F) &= K_W \\\\\n",
        "[H^+]^2 +F[H^+]-K_W &=0 \\\\\n",
        "[H^+] &= \\frac{-F \\pm \\sqrt{F^2-(4)(1)(-K_W)}} {2(1)}\n",
        "\\end{align}\n",
        "\n",
        "This method works perfectly but is not easily generalizable - it works for this system (and strong acids with a sign change in charge balance) but not for others.\n",
        "\n",
        "An approach that is generalizable is [least squares](https://en.wikipedia.org/wiki/Least_squares).  These methods are popular and diverse. For linear problems we use a closed-form technique like [regression](https://en.wikipedia.org/wiki/Regression_analysis), but for non-linear problems we need to use iterative refinement like [Newton's method](https://math.libretexts.org/Bookshelves/Calculus/Calculus_(OpenStax)/04%3A_Applications_of_Derivatives/4.09%3A_Newtons_Method) to search for a good solution.  This iterative approach is used by a spreadsheet's solver tool which is likely familiar to you.  The details of the search methods are beyond the scope of this primer (see this [wikipedia article](https://en.wikipedia.org/wiki/Non-linear_least_squares)), but there are functions avalible in a Python library called [Scipy](https://docs.scipy.org/doc/scipy/index.html) that we can implement without digging into the details unless needed.  Scipy is a [large, powerful, and open-source library used by scientists and engineers around the world](https://www.nature.com/articles/s41592-019-0686-2), and is a cornerstone of Python's scientific stack.\n",
        "\n",
        "The Scipy function we will use first is called \"[fsolve](https://docs.scipy.org/doc/scipy/reference/generated/scipy.optimize.fsolve.html)\" and we need to do some work framing our problem so that \"fsolve\" can search for an optimal solution.  We need some formalism and naming conventions so that we can set up our variables and equations so that \"fsolve\" can do the [heavy lifting](https://en.wikipedia.org/wiki/Jacobian_matrix_and_determinant)."
      ],
      "metadata": {
        "id": "5lZwga15VCIC"
      }
    },
    {
      "cell_type": "markdown",
      "source": [
        "Side Note: Python allows you to declare variables, constants, and functions without any formal declaration or definition statement to establish a name and set aside a known amount of computer memory. This feature is convenient because it allows you to create these names on the fly, and makes the code more compact and readable. Because it can get confusing, your author uses a few naming and ordering conventions to keep things straight. These are not a Python requirement, just a personal best practice.\n",
        "\n",
        "* Begin all function and constant names with upper-case letters\n",
        "* Begin all variable names with lower-case letters\n",
        "* Names should be short but descriptive\n",
        "* Names should use camelCaseToSeparateDescriptiveWords\n",
        "* Names created inside functions should be different than names created outside functions to avoid confusion about scope\n",
        "* Script structure\n",
        "    1. Import all libraries for the entire script\n",
        "    2. Code all functions used in the script\n",
        "    3. Set the values of all constants in the script\n",
        "    4. Code the main part of the script\n",
        "\n",
        "**Important! Comment your code!**\n",
        "\n",
        "\n",
        "* Any text on the same line after the number character ( # , above the 3 on a US keyboard)  will be ignored by the Python interpreter\n",
        "* Any text on multiple lines between 3 repeated apostrophe characters ( ', below the \" on a US keyboard) will be ignored by the Python interpreter\n",
        "\n",
        "With all of this in mind let's begin by coding the skeleton of our script."
      ],
      "metadata": {
        "id": "7MLve5AyWf2H"
      }
    },
    {
      "cell_type": "code",
      "metadata": {
        "id": "GZOGHz2dcX3t",
        "colab": {
          "base_uri": "https://localhost:8080/",
          "height": 211
        },
        "outputId": "63588e2f-6c04-46b1-dd8f-3d3aa0db945f"
      },
      "source": [
        "'''\n",
        "This script uses nonlinear least squares fitting to find the pH of dilute strong base solutions\n",
        "\n",
        "The root finding function is scipy.optimize.fsolve()\n",
        "https://docs.scipy.org/doc/scipy/reference/generated/scipy.optimize.fsolve.html\n",
        "\n",
        "Charge and mass balance are used to avoid simplifying assumptions that lead to incorrect values in dilute solutions\n",
        "https://chem.libretexts.org/Bookshelves/Analytical_Chemistry/Supplemental_Modules_(Analytical_Chemistry)/Analytical_Sciences_Digital_Library/Courseware/Chemical_Equilibrium/02_Text/04_Mass_and_Charge_Balances\n",
        "'''\n",
        "\n",
        "from scipy.optimize import fsolve\n",
        "import numpy as np\n",
        "\n",
        "def FunNaOH(x):\n",
        "  #all of the lines of code that are a part of the function will be indented under its definition\n",
        "  return res\n",
        "\n",
        "Kw=1e-14  #Set the equilibrium constant for autodissociation of water at 25 C\n",
        "F=1.5e-8  #Set the concentration of the NaOH solution\n",
        "\n",
        "#make our estimates here\n",
        "\n",
        "print('concs = ',estimate)\n",
        "result=fsolve(FunNaOH,estimate)\n",
        "print('concs = ',result)"
      ],
      "execution_count": null,
      "outputs": [
        {
          "output_type": "error",
          "ename": "NameError",
          "evalue": "name 'estimate' is not defined",
          "traceback": [
            "\u001b[0;31m---------------------------------------------------------------------------\u001b[0m",
            "\u001b[0;31mNameError\u001b[0m                                 Traceback (most recent call last)",
            "\u001b[0;32m<ipython-input-5-8f4c4d5f72fd>\u001b[0m in \u001b[0;36m<cell line: 23>\u001b[0;34m()\u001b[0m\n\u001b[1;32m     21\u001b[0m \u001b[0;31m#make our estimates here\u001b[0m\u001b[0;34m\u001b[0m\u001b[0;34m\u001b[0m\u001b[0m\n\u001b[1;32m     22\u001b[0m \u001b[0;34m\u001b[0m\u001b[0m\n\u001b[0;32m---> 23\u001b[0;31m \u001b[0mprint\u001b[0m\u001b[0;34m(\u001b[0m\u001b[0;34m'concs = '\u001b[0m\u001b[0;34m,\u001b[0m\u001b[0mestimate\u001b[0m\u001b[0;34m)\u001b[0m\u001b[0;34m\u001b[0m\u001b[0;34m\u001b[0m\u001b[0m\n\u001b[0m\u001b[1;32m     24\u001b[0m \u001b[0mresult\u001b[0m\u001b[0;34m=\u001b[0m\u001b[0mfsolve\u001b[0m\u001b[0;34m(\u001b[0m\u001b[0mFunDiluteHydroxide\u001b[0m\u001b[0;34m,\u001b[0m\u001b[0mestimate\u001b[0m\u001b[0;34m)\u001b[0m\u001b[0;34m\u001b[0m\u001b[0;34m\u001b[0m\u001b[0m\n\u001b[1;32m     25\u001b[0m \u001b[0mprint\u001b[0m\u001b[0;34m(\u001b[0m\u001b[0;34m'concs = '\u001b[0m\u001b[0;34m,\u001b[0m\u001b[0mresult\u001b[0m\u001b[0;34m)\u001b[0m\u001b[0;34m\u001b[0m\u001b[0;34m\u001b[0m\u001b[0m\n",
            "\u001b[0;31mNameError\u001b[0m: name 'estimate' is not defined"
          ]
        }
      ]
    },
    {
      "cell_type": "markdown",
      "source": [
        "The code snippet above is incomplete and will generate an error message.  **Reading and interpreting these error messages is a critical skill that you must cultivate!**  Python will complain because \"estimate\" is not defined (neither are \"res\" or \"result\"), and we need to fill in some information.\n",
        "\n",
        "The Scipy library is huge, so we don't want to import all of it, or even all of its \"optimization\" sub-library.  We will just import the single function we want using the syntax\n",
        "\n",
        "\n",
        "```\n",
        "from scipy.optimize import fsolve\n",
        "```\n",
        "\n",
        "After that we can call the function in our script by typing\n",
        "\n",
        "\n",
        "```\n",
        "bestAnswer = fsolve(OurFunction, startingGuess)\n",
        "```\n",
        "\n",
        "\n",
        "\"Fsolve\", like Numpy's \"log10\" and Python's \"print\" is a function. Most functions give some output (which we often store in a variable, \"bestAnswer\" above) and most require some input arguments (\"OurFunction\" and \"startingGuess\").  In Python, a function's name is **always** followed by an open parenthesis, then some inputs, and then a close parenthesis.\n",
        "\n",
        "In \"[fsolve](https://docs.scipy.org/doc/scipy/reference/generated/scipy.optimize.fsolve.html)\" the first **required** input is a user function that we will use to define the equations, and the second **required** input is an initial guess for the numerical value of all the variables.  It also allows for some optional arguments - these have their names followed by \"=\" and a default value the function will use if none is given. We won't worry about those unless things go awry. Functions have [limited variable scope](https://realpython.com/python-scope-legb-rule/). If you declare a new variable inside a function it will go always as soon as the function ends unless you explicitly return it. Functions are like Vegas; anything that happens in a function stays in the function.\n",
        "\n"
      ],
      "metadata": {
        "id": "XE8puwQAVXaw"
      }
    },
    {
      "cell_type": "markdown",
      "source": [
        "Our function needs to be set up in a particular way.  The documentation of fsolve reads:\n",
        "\n",
        "`A function that takes at least one (possibly vector) argument, and returns a value of the same length.`\n",
        "\n",
        "Fsolve expects to be given a function for its first argument.  That function - the one that we are writing, called \"FunNaOH\" - must take as its input a single variable (that possibly contains more than one number in a one-dimensional array or vector) and return another single variable (that possibly contains more than one number in a one-dimensional array or vector). Both variables, input and output, must be the same length.  Specifically, our function's input should be numerical estimates of the variables (3 of them - one for hydronium, hydroxide, and sodium) and the output should be three numerical estimates of the \"[residuals](https://www.math.net/residual)\" for each equation (3 of them - one for Kw, charge balance, and mass balance).  That last bit means that we need to rearrange each equation so that the result is zero when we have a perfect fit.  In mathematics this is process is often referred to as finding the root (or zero) of an equation.  Formally, it is the value of x so that $f(x)$ = 0.  \n",
        "\n",
        "In our system the equations are:\n",
        "\n",
        "\n",
        "\\begin{align}\n",
        "K_W = (A_{H^+})(A_{OH^-}) &= \\gamma_{H^+}[H^+]\\gamma_{OH^-}[OH^-] \\\\ \\\\\n",
        "K_W &= [H^+][OH^-] \\; \\mathrm{(when \\, \\mu \\approx 0)} \\\\\n",
        "[OH^-] &= [Na^+] + [H^+] \\\\\n",
        "F &= [Na^+]\n",
        "\\end{align}\n",
        "\n",
        "Which becomes:\n",
        "\\begin{align}\n",
        "f0 = 0 &= [H^+][OH^-]-K_W \\\\\n",
        "f1 = 0 &= [Na^+] + [H^+]-[OH^-] \\\\\n",
        "f2 = 0 &= [Na^+]-F\n",
        "\\end{align}\n",
        "\n"
      ],
      "metadata": {
        "id": "rh29zBKVddJ4"
      }
    },
    {
      "cell_type": "markdown",
      "source": [
        "To bring the three concentrations into the function as a single variable (and get the three residuals out) we need to store them in a [numpy array](https://numpy.org/doc/stable/user/absolute_beginners.html).  An array is an n-dimensional, indexed grid of values that use a square bracket notation \"[ ]\".  Numpy has many fast efficient math operations designed to use arrays, and getting familiar with the notation is a critical skill for doing math with numbers in Python."
      ],
      "metadata": {
        "id": "QvIMNReHDNIp"
      }
    },
    {
      "cell_type": "code",
      "metadata": {
        "colab": {
          "base_uri": "https://localhost:8080/"
        },
        "id": "07tX81bGQT4a",
        "outputId": "4d77ec1f-b12d-480c-b057-cfaee68d95ac"
      },
      "source": [
        "from scipy.optimize import fsolve\n",
        "import numpy as np\n",
        "\n",
        "def FunNaOH(x):\n",
        "  # x[0]=hdr\n",
        "  # x[1]=hox\n",
        "  # x[2]=sod\n",
        "  f0=x[0]*x[1]-Kw      #Kw=hdr*hox so 0=hdr*hox-Kw\n",
        "  f1=x[0]+x[2]-x[1]    #charge balance\n",
        "  f3=x[2]-F            #mass balance\n",
        "  res=np.array([f0, f1, f3])\n",
        "  return res\n",
        "\n",
        "Kw=1e-14\n",
        "F=1.5e-8\n",
        "\n",
        "sod=F\n",
        "hox=F+1.0e-7\n",
        "hdr=Kw/hox\n",
        "estimate=np.array([hdr,hox,sod])\n",
        "\n",
        "print('concentrations into fsolve= ',estimate)\n",
        "pHest=-np.log10(estimate[0])\n",
        "print(\"estimated pH = \"+\"{:.2f}\".format(pHest))\n",
        "residualsEstimate=FunNaOH(estimate)\n",
        "print('residuals of the estimates = ',residualsEstimate)\n",
        "\n",
        "result=fsolve(FunNaOH,estimate)\n",
        "print('concentrations out of fsolve= ',result)\n",
        "residualsSolved=FunNaOH(result)\n",
        "print('residuals of the solved equations = ',residualsSolved)\n",
        "\n",
        "pHsol=-np.log10(result[0])\n",
        "print(\"solved pH = \"+\"{:.2f}\".format(pHsol))"
      ],
      "execution_count": null,
      "outputs": [
        {
          "output_type": "stream",
          "name": "stdout",
          "text": [
            "concentrations into fsolve=  [8.69565217e-08 1.15000000e-07 1.50000000e-08]\n",
            "estimated pH = 7.06\n",
            "residuals of the estimates =  [ 0.00000000e+00 -1.30434783e-08  0.00000000e+00]\n",
            "concentrations out of fsolve=  [9.27808556e-08 1.07780856e-07 1.50000000e-08]\n",
            "residuals of the solved equations =  [0. 0. 0.]\n",
            "solved pH = 7.03\n"
          ]
        }
      ]
    },
    {
      "cell_type": "markdown",
      "source": [
        "Notice how we establish a convention for the ordering of the values in the array called \"estimate.\"  **Array indexing starts with zero!** The first element in the array with an index of 0 is hydronium, index 1 is hydroxide, and index 2 is sodium.  The output of fsolve is stored in an array with the same indexing, so result[0] is the concentration of hydronium that we need to calculate pH.\n",
        "\n",
        "The order of the residuals out of our function are ordered in the same way we put them into the array we return called \"res.\"  Before optimization the equilibrium (f0) and mass balance (f2) are correct with values of 0, but the charge balance is wrong with too much negative charge.  \n",
        "\n",
        "By squaring the residuals and summing them we get a numerical estimate of the quality of a fit that we want to minimize.  This familiar method, called [least squares](https://mathworld.wolfram.com/LeastSquaresFitting.html), is a mathmatical powerhouse for modeling!"
      ],
      "metadata": {
        "id": "mppKC3x2SdUj"
      }
    },
    {
      "cell_type": "markdown",
      "source": [
        "At this point you can go back to the [$\\mathrm{CO_2}$ modeling activity](https://colab.research.google.com/drive/1JmzYY-f_uMBbdWO7Q5ehC9B1xWakEKcJ?usp=sharing), explore another primer about Python loops and plotting, or work in the code block below to calculate the pH of a $1.5×10^{−4}$ M solution of sodium fluoride."
      ],
      "metadata": {
        "id": "Xle3FtStb8zH"
      }
    },
    {
      "cell_type": "code",
      "source": [],
      "metadata": {
        "id": "EexVv6mnbGRW"
      },
      "execution_count": null,
      "outputs": []
    }
  ]
}